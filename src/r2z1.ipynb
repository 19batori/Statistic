{
 "cells": [
  {
   "cell_type": "markdown",
   "metadata": {},
   "source": [
    "+ Задание r2z1:\n",
    "+ Вариант 4 (Z8: Проверить гипотезу однородности по двухвыборочному критерию Стьюдента)\n",
    "+ α = 0.1\n",
    "+ K: I-ая гр. Больше"
   ]
  },
  {
   "cell_type": "markdown",
   "metadata": {},
   "source": [
    "\n",
    "##### Вар-4 Двухвыборочный критерий Стьюдента.\n",
    "+ К заданию прилагаются две выборки и дополнительные параметры: требуемый уровень значимости критерия α и вид альтернативной гипотезы K (либо H1). Гипотеза H0 (нулевая гипотеза) выбирается как обратная по отношению к альтернативе.\n",
    "+ Описание и теоретические аспекты выполнения см. в [1], с.70–71 (Задание 8)."
   ]
  },
  {
   "cell_type": "markdown",
   "metadata": {},
   "source": [
    "+ Ввод двух выборок\n",
    "разделитель запятая\n",
    "`reader_object = csv.reader(file, delimiter = \",\")`"
   ]
  },
  {
   "cell_type": "code",
   "execution_count": 1,
   "metadata": {},
   "outputs": [],
   "source": [
    "import csv\n",
    "with open(\"матстат2/r2z1.csv\", encoding='utf-8') as r_file:\n",
    "    file_reader = csv.reader(r_file, delimiter = \",\")\n",
    "    x = []\n",
    "    y = []\n",
    "    n = 0\n",
    "    for row in file_reader:\n",
    "        if n > 0:\n",
    "            x.append(float(row[0]))\n",
    "            y.append(float(row[1]))\n",
    "        n+=1\n",
    "    n-=1"
   ]
  },
  {
   "cell_type": "code",
   "execution_count": 2,
   "metadata": {},
   "outputs": [
    {
     "name": "stdout",
     "output_type": "stream",
     "text": [
      "X: 154.9227 59.4413\n",
      "Y: 166.0727 73.1633\n"
     ]
    }
   ],
   "source": [
    "import math\n",
    "\n",
    "def mean(x):\n",
    "    s=0\n",
    "    for i in x:\n",
    "        s+=i\n",
    "    return round(s/n, 4)\n",
    "meanX = mean(x)\n",
    "meanY = mean(y) \n",
    "\n",
    "def disp(x):\n",
    "    s=0\n",
    "    E = mean(x)\n",
    "    for i in x:\n",
    "        s += (i - E)**2/n\n",
    "    return round(s, 4)\n",
    "dispX = disp(x)\n",
    "dispY = disp(y)\n",
    "print('X:',meanX, dispX)\n",
    "print('Y:',meanY, dispY)"
   ]
  },
  {
   "cell_type": "code",
   "execution_count": 4,
   "metadata": {},
   "outputs": [
    {
     "name": "stdout",
     "output_type": "stream",
     "text": [
      "2.3704932248361077 -6.3493577863249255 4.9135503188984606e-09\n"
     ]
    }
   ],
   "source": [
    "from scipy.stats import t\n",
    "df = len(x) + len(y) - 2\n",
    "T = ((meanX - meanY)/math.sqrt(n*dispX + n*dispY))*math.sqrt(n*n*(2*n - 2)/(2*n))\n",
    "alpha = 1 - 0.01\n",
    "cv =t.ppf(alpha, df)\n",
    "p = t.cdf(T, df)\n",
    "print(cv, T, p)\n"
   ]
  },
  {
   "cell_type": "code",
   "execution_count": null,
   "metadata": {},
   "outputs": [],
   "source": []
  }
 ],
 "metadata": {
  "kernelspec": {
   "display_name": "Python 3",
   "language": "python",
   "name": "python3"
  },
  "language_info": {
   "codemirror_mode": {
    "name": "ipython",
    "version": 3
   },
   "file_extension": ".py",
   "mimetype": "text/x-python",
   "name": "python",
   "nbconvert_exporter": "python",
   "pygments_lexer": "ipython3",
   "version": "3.10.6"
  }
 },
 "nbformat": 4,
 "nbformat_minor": 4
}
