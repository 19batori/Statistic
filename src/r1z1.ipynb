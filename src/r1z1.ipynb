{
 "cells": [
  {
   "cell_type": "code",
   "execution_count": 2,
   "id": "eb565e45",
   "metadata": {},
   "outputs": [],
   "source": [
    "import csv\n",
    "import math\n",
    "import numpy as np\n",
    "import matplotlib.pylab as plt\n",
    "import statsmodels.api as sm"
   ]
  },
  {
   "cell_type": "code",
   "execution_count": 3,
   "id": "e04b04ee",
   "metadata": {},
   "outputs": [
    {
     "name": "stdout",
     "output_type": "stream",
     "text": [
      "[114.0, 115.0, 116.0, 116.0, 116.7, 117.0, 117.0, 117.2, 117.2, 117.8, 118.0, 118.2, 118.5, 118.5, 118.5, 118.5, 118.6, 118.7, 118.7, 118.8, 119.0, 119.0, 119.0, 119.1, 119.4, 119.5, 119.5, 119.5, 119.8, 120.0, 120.0, 120.0, 120.2, 120.5, 120.5, 120.5, 120.5, 120.5, 120.5, 120.5, 120.6, 121.0, 121.0, 121.0, 121.0, 121.0, 121.1, 121.2, 121.2, 121.3, 121.3, 121.5, 121.5, 121.5, 121.5, 121.5, 121.5, 121.5, 121.5, 121.8, 121.8, 121.8, 122.0, 122.0, 122.0, 122.0, 122.0, 122.0, 122.0, 122.0, 122.0, 122.0, 122.0, 122.0, 122.0, 122.1, 122.2, 122.2, 122.3, 122.3, 122.5, 122.5, 122.5, 122.5, 122.5, 122.5, 122.5, 123.0, 123.0, 123.0, 123.0, 123.2, 123.5, 123.9, 124.0, 124.0, 124.0, 124.0, 124.2, 124.2, 124.5, 124.5, 125.0, 125.0, 125.0, 125.0, 125.8, 126.0, 126.3, 126.5]\n"
     ]
    }
   ],
   "source": [
    "a=[]\n",
    "with open('r1z1.csv', newline='') as csvfile:\n",
    "     reader = csv.reader(csvfile,quoting=csv.QUOTE_NONNUMERIC)\n",
    "     for row in reader:\n",
    "        a.append(row[0])\n",
    "a.pop(0) #удаление название столбца типа str\n",
    "a.sort()\n",
    "print(a)"
   ]
  },
  {
   "cell_type": "code",
   "execution_count": 4,
   "id": "f2fdc3d1",
   "metadata": {},
   "outputs": [
    {
     "name": "stdout",
     "output_type": "stream",
     "text": [
      "Объем выборки:   110\n",
      "Минимум:         114.0\n",
      "Максимум:        126.5\n",
      "Размах:          12.5\n"
     ]
    }
   ],
   "source": [
    "n=len(a)\n",
    "print(\"Объем выборки:  \", len(a))\n",
    "print(\"Минимум:        \", a[0])\n",
    "print(\"Максимум:       \", a[n-1])\n",
    "print(\"Размах:         \", round(a[n-1] - a[0],1))"
   ]
  },
  {
   "cell_type": "code",
   "execution_count": 5,
   "id": "40ba73aa",
   "metadata": {},
   "outputs": [
    {
     "name": "stdout",
     "output_type": "stream",
     "text": [
      "Среднее:         121.2\n"
     ]
    }
   ],
   "source": [
    "s=0\n",
    "for i in a:\n",
    "    s += i \n",
    "mean_value = round(s / n, 1)\n",
    "print(\"Среднее:        \", mean_value)"
   ]
  },
  {
   "cell_type": "code",
   "execution_count": 6,
   "id": "ad46b2de",
   "metadata": {
    "scrolled": true
   },
   "outputs": [
    {
     "data": {
      "text/html": [
       "<img src=\"https://wikimedia.org/api/rest_v1/media/math/render/svg/d1ae9ddbee48f5b0833ed84060c784aaf3ae5e31\"/>"
      ],
      "text/plain": [
       "<IPython.core.display.Image object>"
      ]
     },
     "execution_count": 6,
     "metadata": {},
     "output_type": "execute_result"
    }
   ],
   "source": [
    "from IPython.display import Image\n",
    "from IPython.core.display import HTML \n",
    "Image(url= \"https://wikimedia.org/api/rest_v1/media/math/render/svg/d1ae9ddbee48f5b0833ed84060c784aaf3ae5e31\")"
   ]
  },
  {
   "cell_type": "code",
   "execution_count": 7,
   "id": "70bf1d66",
   "metadata": {},
   "outputs": [
    {
     "name": "stdout",
     "output_type": "stream",
     "text": [
      "Выборочная дисперсия: 5.8\n"
     ]
    }
   ],
   "source": [
    "s = 0\n",
    "for i in a:\n",
    "    s += (i - mean_value)**2\n",
    "sample_variance = round(s / n, 1)\n",
    "print(\"Выборочная дисперсия:\", sample_variance)"
   ]
  },
  {
   "cell_type": "code",
   "execution_count": 8,
   "id": "9e2286b2",
   "metadata": {},
   "outputs": [
    {
     "data": {
      "text/html": [
       "<img src=\"https://wikimedia.org/api/rest_v1/media/math/render/svg/f5ee32106a4b19b0a73df47ba7110b6a27aa4be6\"/>"
      ],
      "text/plain": [
       "<IPython.core.display.Image object>"
      ]
     },
     "execution_count": 8,
     "metadata": {},
     "output_type": "execute_result"
    }
   ],
   "source": [
    "Image(url= \"https://wikimedia.org/api/rest_v1/media/math/render/svg/f5ee32106a4b19b0a73df47ba7110b6a27aa4be6\")"
   ]
  },
  {
   "cell_type": "code",
   "execution_count": 9,
   "id": "d4d38d8e",
   "metadata": {},
   "outputs": [
    {
     "name": "stdout",
     "output_type": "stream",
     "text": [
      "Несмещённая выборочная дисперсия: 5.9\n"
     ]
    }
   ],
   "source": [
    "unbiased_variance = round(n*sample_variance/(n-1), 1)\n",
    "print(\"Несмещённая выборочная дисперсия:\", unbiased_variance)"
   ]
  },
  {
   "cell_type": "code",
   "execution_count": 10,
   "id": "ae3d04b7",
   "metadata": {},
   "outputs": [
    {
     "data": {
      "text/html": [
       "<img src=\"https://wikimedia.org/api/rest_v1/media/math/render/svg/8c535aeb360aec0139028ee203973550bb364cbb\"/>"
      ],
      "text/plain": [
       "<IPython.core.display.Image object>"
      ]
     },
     "execution_count": 10,
     "metadata": {},
     "output_type": "execute_result"
    }
   ],
   "source": [
    "Image(url= \"https://wikimedia.org/api/rest_v1/media/math/render/svg/8c535aeb360aec0139028ee203973550bb364cbb\")"
   ]
  },
  {
   "cell_type": "code",
   "execution_count": 11,
   "id": "e7949157",
   "metadata": {},
   "outputs": [
    {
     "name": "stdout",
     "output_type": "stream",
     "text": [
      "Стандартное отклонение: 2.4\n"
     ]
    }
   ],
   "source": [
    "sigma = round(math.sqrt(sample_variance), 1)\n",
    "print(\"Стандартное отклонение:\",  sigma)"
   ]
  },
  {
   "cell_type": "code",
   "execution_count": 12,
   "id": "ac1e5971",
   "metadata": {},
   "outputs": [
    {
     "name": "stdout",
     "output_type": "stream",
     "text": [
      "Ассиметрия: -0.4\n"
     ]
    }
   ],
   "source": [
    "s = 0\n",
    "for i in a:\n",
    "    s += (i - mean_value)**3\n",
    "asymmetry = round(s/(n * sigma**3), 1)\n",
    "print(\"Ассиметрия:\", asymmetry)"
   ]
  },
  {
   "cell_type": "code",
   "execution_count": 13,
   "id": "bc5d8921",
   "metadata": {},
   "outputs": [
    {
     "name": "stdout",
     "output_type": "stream",
     "text": [
      "Медиана: 121.5\n"
     ]
    }
   ],
   "source": [
    "if n % 2 == 0:\n",
    "    print(\"Медиана:\", (round((a[n//2-1] + a[n//2])/2, 1)))\n",
    "else:\n",
    "    print(\"Медиана:\", a[n // 2])"
   ]
  },
  {
   "cell_type": "code",
   "execution_count": 14,
   "id": "ee05839c",
   "metadata": {},
   "outputs": [
    {
     "name": "stdout",
     "output_type": "stream",
     "text": [
      "Интерквартильная широта: 3.0\n"
     ]
    }
   ],
   "source": [
    "if n % 4 == 0:\n",
    "    nkvart = round((a[n//4-1] + a[n//4])/2, 3)\n",
    "    vkvart = round((a[3*n//4-1] + a[3*n//4])/2, 3)\n",
    "else:\n",
    "    nkvart = a[n // 4]\n",
    "    vkvart = a[3 * n // 4]\n",
    "\n",
    "print(\"Интерквартильная широта:\", vkvart - nkvart)"
   ]
  },
  {
   "cell_type": "code",
   "execution_count": 15,
   "id": "6f2d8236",
   "metadata": {},
   "outputs": [
    {
     "data": {
      "text/plain": [
       "2"
      ]
     },
     "execution_count": 15,
     "metadata": {},
     "output_type": "execute_result"
    }
   ],
   "source": [
    "n%4\n",
    "#print(n)"
   ]
  },
  {
   "cell_type": "code",
   "execution_count": 1,
   "id": "6ca83c15",
   "metadata": {},
   "outputs": [
    {
     "ename": "NameError",
     "evalue": "name 'plt' is not defined",
     "output_type": "error",
     "traceback": [
      "\u001b[0;31m---------------------------------------------------------------------------\u001b[0m",
      "\u001b[0;31mNameError\u001b[0m                                 Traceback (most recent call last)",
      "\u001b[0;32m<ipython-input-1-85cd43ec6966>\u001b[0m in \u001b[0;36m<module>\u001b[0;34m\u001b[0m\n\u001b[0;32m----> 1\u001b[0;31m \u001b[0mfig\u001b[0m\u001b[0;34m=\u001b[0m\u001b[0mplt\u001b[0m\u001b[0;34m.\u001b[0m\u001b[0mfigure\u001b[0m\u001b[0;34m(\u001b[0m\u001b[0mfigsize\u001b[0m\u001b[0;34m=\u001b[0m\u001b[0;34m(\u001b[0m\u001b[0;36m10\u001b[0m\u001b[0;34m,\u001b[0m\u001b[0;36m6\u001b[0m\u001b[0;34m)\u001b[0m\u001b[0;34m)\u001b[0m\u001b[0;34m\u001b[0m\u001b[0;34m\u001b[0m\u001b[0m\n\u001b[0m\u001b[1;32m      2\u001b[0m \u001b[0max\u001b[0m\u001b[0;34m=\u001b[0m\u001b[0mfig\u001b[0m\u001b[0;34m.\u001b[0m\u001b[0madd_subplot\u001b[0m\u001b[0;34m(\u001b[0m\u001b[0;34m)\u001b[0m\u001b[0;34m\u001b[0m\u001b[0;34m\u001b[0m\u001b[0m\n\u001b[1;32m      3\u001b[0m \u001b[0max\u001b[0m\u001b[0;34m.\u001b[0m\u001b[0mxaxis\u001b[0m\u001b[0;34m.\u001b[0m\u001b[0mset_major_locator\u001b[0m\u001b[0;34m(\u001b[0m\u001b[0mplt\u001b[0m\u001b[0;34m.\u001b[0m\u001b[0mIndexLocator\u001b[0m\u001b[0;34m(\u001b[0m\u001b[0mbase\u001b[0m\u001b[0;34m=\u001b[0m\u001b[0;36m1.13636364\u001b[0m\u001b[0;34m,\u001b[0m \u001b[0moffset\u001b[0m\u001b[0;34m=\u001b[0m\u001b[0;36m0\u001b[0m\u001b[0;34m)\u001b[0m\u001b[0;34m)\u001b[0m\u001b[0;34m\u001b[0m\u001b[0;34m\u001b[0m\u001b[0m\n\u001b[1;32m      4\u001b[0m \u001b[0mn\u001b[0m\u001b[0;34m,\u001b[0m \u001b[0mbins\u001b[0m\u001b[0;34m,\u001b[0m\u001b[0mpitches\u001b[0m \u001b[0;34m=\u001b[0m \u001b[0max\u001b[0m\u001b[0;34m.\u001b[0m\u001b[0mhist\u001b[0m\u001b[0;34m(\u001b[0m\u001b[0ma\u001b[0m\u001b[0;34m,\u001b[0m\u001b[0mbins\u001b[0m\u001b[0;34m=\u001b[0m\u001b[0mint\u001b[0m\u001b[0;34m(\u001b[0m\u001b[0mnp\u001b[0m\u001b[0;34m.\u001b[0m\u001b[0mround\u001b[0m\u001b[0;34m(\u001b[0m\u001b[0mlen\u001b[0m\u001b[0;34m(\u001b[0m\u001b[0ma\u001b[0m\u001b[0;34m)\u001b[0m\u001b[0;34m/\u001b[0m\u001b[0;36m10\u001b[0m\u001b[0;34m)\u001b[0m\u001b[0;34m)\u001b[0m\u001b[0;34m,\u001b[0m \u001b[0mdensity\u001b[0m\u001b[0;34m=\u001b[0m\u001b[0;32mTrue\u001b[0m\u001b[0;34m)\u001b[0m\u001b[0;34m\u001b[0m\u001b[0;34m\u001b[0m\u001b[0m\n\u001b[1;32m      5\u001b[0m \u001b[0;32mfor\u001b[0m \u001b[0mi\u001b[0m \u001b[0;32min\u001b[0m \u001b[0mpitches\u001b[0m\u001b[0;34m:\u001b[0m\u001b[0;34m\u001b[0m\u001b[0;34m\u001b[0m\u001b[0m\n",
      "\u001b[0;31mNameError\u001b[0m: name 'plt' is not defined"
     ]
    }
   ],
   "source": [
    "fig=plt.figure(figsize=(10,6))\n",
    "ax=fig.add_subplot()\n",
    "ax.xaxis.set_major_locator(plt.IndexLocator(base=1.13636364, offset=0))\n",
    "n, bins,pitches = ax.hist(a,bins=int(np.round(len(a)/10)), density=True)\n",
    "for i in pitches:\n",
    "    height = round(i.get_height(), 3)\n",
    "    ax.annotate(height, (i.get_x() + 0.2, height+0.002))\n",
    "ax.grid()\n",
    "plt.show()"
   ]
  },
  {
   "cell_type": "code",
   "execution_count": 46,
   "id": "25c03583",
   "metadata": {
    "scrolled": true
   },
   "outputs": [
    {
     "data": {
      "image/png": "[encoded data removed]",
      "text/plain": [
       "<Figure size 640x480 with 1 Axes>"
      ]
     },
     "metadata": {},
     "output_type": "display_data"
    }
   ],
   "source": [
    "ecdf = sm.distributions.ECDF(a)\n",
    "x = np.linspace(min(a), max(a))\n",
    "y = ecdf(x,)\n",
    "plt.step(x, y, color = 'g',\n",
    "        linewidth = 4)\n",
    "plt.minorticks_on()\n",
    "#  Определяем внешний вид линий основной сетки:\n",
    "plt.grid(which='major',\n",
    "        color = 'k', \n",
    "        linewidth = 1)\n",
    "\n",
    "#  Определяем внешний вид линий вспомогательной\n",
    "#  сетки:\n",
    "plt.grid(which='minor', \n",
    "        color = 'k', \n",
    "        linestyle = ':')\n",
    "plt.show()"
   ]
  },
  {
   "cell_type": "code",
   "execution_count": 31,
   "id": "6549a13e",
   "metadata": {},
   "outputs": [
    {
     "name": "stdout",
     "output_type": "stream",
     "text": [
      "\u001b[H\u001b[2J"
     ]
    }
   ],
   "source": []
  },
  {
   "cell_type": "code",
   "execution_count": null,
   "id": "55f42d76",
   "metadata": {},
   "outputs": [],
   "source": []
  }
 ],
 "metadata": {
  "kernelspec": {
   "display_name": "Python 3",
   "language": "python",
   "name": "python3"
  },
  "language_info": {
   "codemirror_mode": {
    "name": "ipython",
    "version": 3
   },
   "file_extension": ".py",
   "mimetype": "text/x-python",
   "name": "python",
   "nbconvert_exporter": "python",
   "pygments_lexer": "ipython3",
   "version": "3.10.6"
  }
 },
 "nbformat": 4,
 "nbformat_minor": 5
}
