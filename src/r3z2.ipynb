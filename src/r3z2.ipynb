{
 "cells": [
  {
   "cell_type": "code",
   "execution_count": 71,
   "metadata": {},
   "outputs": [
    {
     "data": {
      "text/plain": [
       "60"
      ]
     },
     "execution_count": 71,
     "metadata": {},
     "output_type": "execute_result"
    }
   ],
   "source": [
    "import csv\n",
    "with open(\"../datasets/r3z2.csv\", encoding='utf-8') as r_file:\n",
    "    file_reader = csv.reader(r_file, delimiter = \",\")\n",
    "    x = []\n",
    "    n = 0\n",
    "    for row in file_reader:\n",
    "        if n > 0:\n",
    "            x.append(float(row[0]))\n",
    "        n+=1\n",
    "n = len(x)\n",
    "x.sort()\n",
    "n"
   ]
  },
  {
   "cell_type": "code",
   "execution_count": 72,
   "metadata": {},
   "outputs": [
    {
     "data": {
      "text/plain": [
       "4.0"
      ]
     },
     "execution_count": 72,
     "metadata": {},
     "output_type": "execute_result"
    }
   ],
   "source": [
    "s=0\n",
    "for i in x:\n",
    "    s += i \n",
    "mean_value = round(s / n, 1)\n",
    "s = 0\n",
    "for i in x:\n",
    "    s += (i - mean_value)**2\n",
    "sample_variance = round(s / n, 1)\n",
    "sample_variance"
   ]
  },
  {
   "cell_type": "code",
   "execution_count": 73,
   "metadata": {},
   "outputs": [
    {
     "name": "stdout",
     "output_type": "stream",
     "text": [
      "Верхняя доверительная граница для дисперсии:  5.668532558633884\n"
     ]
    }
   ],
   "source": [
    "Q = 0.95\n",
    "from scipy.stats import chi2\n",
    "chi = round(chi2.ppf( 1 - Q, n -1), 3)\n",
    "High_interval_D = n*sample_variance/chi\n",
    "print(\"Верхняя доверительная граница для дисперсии: \" , High_interval_D)"
   ]
  },
  {
   "cell_type": "code",
   "execution_count": 74,
   "metadata": {},
   "outputs": [
    {
     "name": "stdout",
     "output_type": "stream",
     "text": [
      "Верхняя доверительная граница для среднего:  98.83511556392253\n"
     ]
    }
   ],
   "source": [
    "import math\n",
    "from scipy.stats import t\n",
    "m = math.sqrt(sample_variance/(n-1))\n",
    "High_interval_E = mean_value - m*t.ppf(1 - Q, n-1)\n",
    "print(\"Верхняя доверительная граница для среднего: \" , High_interval_E)"
   ]
  }
 ],
 "metadata": {
  "kernelspec": {
   "display_name": "Python 3.10.6 64-bit",
   "language": "python",
   "name": "python3"
  },
  "language_info": {
   "codemirror_mode": {
    "name": "ipython",
    "version": 3
   },
   "file_extension": ".py",
   "mimetype": "text/x-python",
   "name": "python",
   "nbconvert_exporter": "python",
   "pygments_lexer": "ipython3",
   "version": "3.10.6"
  },
  "orig_nbformat": 4,
  "vscode": {
   "interpreter": {
    "hash": "916dbcbb3f70747c44a77c7bcd40155683ae19c65e1c03b4aa3499c5328201f1"
   }
  }
 },
 "nbformat": 4,
 "nbformat_minor": 2
}
