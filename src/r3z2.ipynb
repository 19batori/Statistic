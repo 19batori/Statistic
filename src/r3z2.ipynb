{
 "cells": [
  {
   "cell_type": "code",
   "execution_count": 1,
   "metadata": {},
   "outputs": [
    {
     "name": "stdout",
     "output_type": "stream",
     "text": [
      "60\n"
     ]
    }
   ],
   "source": [
    "import csv\n",
    "with open(\"../datasets/r3z2.csv\", encoding='utf-8') as r_file:\n",
    "    file_reader = csv.reader(r_file, delimiter = \",\")\n",
    "    x = []\n",
    "    n = 0\n",
    "    for row in file_reader:\n",
    "        if n > 0:\n",
    "            x.append(float(row[0]))\n",
    "        n+=1\n",
    "n = len(x)\n",
    "x.sort()\n",
    "print(n)"
   ]
  },
  {
   "cell_type": "code",
   "execution_count": null,
   "metadata": {},
   "outputs": [],
   "source": []
  }
 ],
 "metadata": {
  "kernelspec": {
   "display_name": "Python 3.10.8 64-bit (microsoft store)",
   "language": "python",
   "name": "python3"
  },
  "language_info": {
   "codemirror_mode": {
    "name": "ipython",
    "version": 3
   },
   "file_extension": ".py",
   "mimetype": "text/x-python",
   "name": "python",
   "nbconvert_exporter": "python",
   "pygments_lexer": "ipython3",
   "version": "3.10.8"
  },
  "orig_nbformat": 4,
  "vscode": {
   "interpreter": {
    "hash": "4f7aa212f42882400997fb72e8ce0d590b45988d949ec5c1d1e68e418f048d0e"
   }
  }
 },
 "nbformat": 4,
 "nbformat_minor": 2
}
