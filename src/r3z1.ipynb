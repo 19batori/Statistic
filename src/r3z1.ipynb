{
 "cells": [
  {
   "cell_type": "code",
   "execution_count": 81,
   "id": "0bed83d3",
   "metadata": {},
   "outputs": [
    {
     "name": "stdout",
     "output_type": "stream",
     "text": [
      "34\n"
     ]
    }
   ],
   "source": [
    "import csv\n",
    "with open(\"../datasets/r3z1.csv\", encoding='utf-8') as r_file:\n",
    "    file_reader = csv.reader(r_file, delimiter = \",\")\n",
    "    x = []\n",
    "    n = 0\n",
    "    for row in file_reader:\n",
    "        if n > 0:\n",
    "            x.append(float(row[0]))\n",
    "        n+=1\n",
    "n = len(x)\n",
    "x.sort()\n",
    "print(n)"
   ]
  },
  {
   "cell_type": "markdown",
   "id": "f94cee96",
   "metadata": {},
   "source": [
    "+ 0 <= x <= 1\n",
    "+ alpha > -0.5\n",
    "+ f(x|a) = (2a + 1) * x**2a\n",
    "+ â = (2a + 1)**n * x*(2an)\n",
    "+ Находим максимизацию функции â под логарифмом\n"
   ]
  },
  {
   "cell_type": "code",
   "execution_count": 82,
   "id": "ebe35ae7",
   "metadata": {},
   "outputs": [
    {
     "name": "stdout",
     "output_type": "stream",
     "text": [
      "П f(x|a) = 5.82076609134674e-11*exp(-21.6172002736638/a)/a**34\n"
     ]
    },
    {
     "data": {
      "text/latex": [
       "$\\displaystyle \\frac{5.82076609134674 \\cdot 10^{-11} e^{- \\frac{21.6172002736638}{a}}}{a^{34}}$"
      ],
      "text/plain": [
       "5.82076609134674e-11*exp(-21.6172002736638/a)/a**34"
      ]
     },
     "execution_count": 82,
     "metadata": {},
     "output_type": "execute_result"
    }
   ],
   "source": [
    "from sympy import *\n",
    "from numpy import *\n",
    "import math\n",
    "a = Symbol('a')\n",
    "expr = Add(1)\n",
    "for i in x:\n",
    "    expr = expr * (1./(2*a))*sympy.exp((-1*(sympy.Abs(i)/a)))\n",
    "print(\"П f(x|a) = \" + str(simplify(expr)))\n",
    "la = expr\n",
    "la"
   ]
  },
  {
   "cell_type": "markdown",
   "id": "4f66afb5",
   "metadata": {},
   "source": [
    "+ Нашли произведение функций плотностей\n",
    "+ Логарифмизируем выражение"
   ]
  },
  {
   "cell_type": "code",
   "execution_count": 83,
   "id": "27068183",
   "metadata": {},
   "outputs": [],
   "source": [
    "# import sympy\n",
    "# expr = sympy.log(expr)\n",
    "\n",
    "# print(\"L â = \" + str(simplify(expr)))\n",
    "# expr"
   ]
  },
  {
   "cell_type": "markdown",
   "id": "83e143fa",
   "metadata": {},
   "source": [
    "+ Найдем максимум "
   ]
  },
  {
   "cell_type": "code",
   "execution_count": 84,
   "id": "50d01968",
   "metadata": {},
   "outputs": [
    {
     "data": {
      "text/latex": [
       "$\\displaystyle \\frac{\\left(1.25828666342794 \\cdot 10^{-9} - 1.97906047105789 \\cdot 10^{-9} a\\right) e^{- \\frac{21.6172002736638}{a}}}{a^{36}}$"
      ],
      "text/plain": [
       "(1.25828666342794e-9 - 1.97906047105789e-9*a)*exp(-21.6172002736638/a)/a**36"
      ]
     },
     "execution_count": 84,
     "metadata": {},
     "output_type": "execute_result"
    }
   ],
   "source": [
    "expr = expr.diff(a)\n",
    "#print(\"â = \" + str(*expr))\n",
    "expr = simplify(expr)\n",
    "expr"
   ]
  },
  {
   "cell_type": "code",
   "execution_count": 85,
   "id": "ddb2f468",
   "metadata": {},
   "outputs": [
    {
     "data": {
      "text/latex": [
       "$\\displaystyle 0.635800008048937$"
      ],
      "text/plain": [
       "0.635800008048937"
      ]
     },
     "execution_count": 85,
     "metadata": {},
     "output_type": "execute_result"
    }
   ],
   "source": [
    "result = solve(expr,a)\n",
    "result[0]"
   ]
  },
  {
   "cell_type": "code",
   "execution_count": 87,
   "id": "6ba7726e",
   "metadata": {},
   "outputs": [
    {
     "data": {
      "text/latex": [
       "$\\displaystyle -4.08232553019741 \\cdot 10^{-17}$"
      ],
      "text/plain": [
       "-4.08232553019741e-17"
      ]
     },
     "execution_count": 87,
     "metadata": {},
     "output_type": "execute_result"
    }
   ],
   "source": [
    "expr = expr.diff(a)\n",
    "expr = expr.subs({a:result[0]})\n",
    "expr"
   ]
  }
 ],
 "metadata": {
  "kernelspec": {
   "display_name": "Python 3.10.6 64-bit",
   "language": "python",
   "name": "python3"
  },
  "language_info": {
   "codemirror_mode": {
    "name": "ipython",
    "version": 3
   },
   "file_extension": ".py",
   "mimetype": "text/x-python",
   "name": "python",
   "nbconvert_exporter": "python",
   "pygments_lexer": "ipython3",
   "version": "3.10.6"
  },
  "vscode": {
   "interpreter": {
    "hash": "916dbcbb3f70747c44a77c7bcd40155683ae19c65e1c03b4aa3499c5328201f1"
   }
  }
 },
 "nbformat": 4,
 "nbformat_minor": 5
}
