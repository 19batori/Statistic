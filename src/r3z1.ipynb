{
 "cells": [
  {
   "cell_type": "code",
   "execution_count": 138,
   "id": "84a77a9f",
   "metadata": {},
   "outputs": [
    {
     "name": "stdout",
     "output_type": "stream",
     "text": [
      "12\n"
     ]
    }
   ],
   "source": [
    "import csv\n",
    "with open(\"../datasets/r3z1.csv\", encoding='utf-8') as r_file:\n",
    "    file_reader = csv.reader(r_file, delimiter = \",\")\n",
    "    x = []\n",
    "    n = 0\n",
    "    for row in file_reader:\n",
    "        if n > 0:\n",
    "            if float(row[0]) >= 0 and float(row[0]) <= 1 :\n",
    "                x.append(float(row[0]))\n",
    "        n+=1\n",
    "n = len(x)\n",
    "x.sort()\n",
    "print(n)"
   ]
  },
  {
   "cell_type": "markdown",
   "id": "42636031",
   "metadata": {},
   "source": [
    "+ 0 <= x <= 1\n",
    "+ alpha > -0.5\n",
    "+ f(x|a) = (2a + 1) * x**2a\n",
    "+ â = (2a + 1)**n * x*(2an)\n",
    "+ Находим максимизацию функции â под логарифмом\n"
   ]
  },
  {
   "cell_type": "code",
   "execution_count": 148,
   "id": "6ee9bb57",
   "metadata": {},
   "outputs": [
    {
     "name": "stdout",
     "output_type": "stream",
     "text": [
      "П f(x|a) = 1.79681188088541e-15**a*(2*a + 1)**12\n"
     ]
    }
   ],
   "source": [
    "from sympy.solvers import solve\n",
    "from sympy import *\n",
    "from numpy import *\n",
    "a = Symbol('a')\n",
    "expr = Add(1)\n",
    "for i in x:\n",
    "    expr = expr * (2*a+1)*i**(2*a)\n",
    "print(\"П f(x|a) = \" + str(simplify(expr)))\n"
   ]
  },
  {
   "cell_type": "markdown",
   "id": "4d92254e",
   "metadata": {},
   "source": [
    "+ Нашли произведение функций плотностей\n",
    "+ Логарифмизируем выражение"
   ]
  },
  {
   "cell_type": "code",
   "execution_count": 149,
   "id": "afd6a080",
   "metadata": {},
   "outputs": [
    {
     "name": "stdout",
     "output_type": "stream",
     "text": [
      "L â = log(1.79681188088541e-15**a*(2*a + 1)**12)\n"
     ]
    }
   ],
   "source": [
    "expr = sympy.log(expr)\n",
    "print(\"L â = \" + str(simplify(expr)))"
   ]
  },
  {
   "cell_type": "markdown",
   "id": "dcc341a5",
   "metadata": {},
   "source": [
    "+ Найдем максимум "
   ]
  },
  {
   "cell_type": "code",
   "execution_count": 150,
   "id": "c219b4ac",
   "metadata": {},
   "outputs": [
    {
     "name": "stdout",
     "output_type": "stream",
     "text": [
      "â = -0.146567786409504\n"
     ]
    }
   ],
   "source": [
    "expr = solve(expr.diff(a))\n",
    "print(\"â = \" + str(*expr))"
   ]
  }
 ],
 "metadata": {
  "kernelspec": {
   "display_name": "Python 3",
   "language": "python",
   "name": "python3"
  },
  "language_info": {
   "codemirror_mode": {
    "name": "ipython",
    "version": 3
   },
   "file_extension": ".py",
   "mimetype": "text/x-python",
   "name": "python",
   "nbconvert_exporter": "python",
   "pygments_lexer": "ipython3",
   "version": "3.10.6"
  }
 },
 "nbformat": 4,
 "nbformat_minor": 5
}
